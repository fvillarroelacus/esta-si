{
 "cells": [
  {
   "cell_type": "markdown",
   "metadata": {},
   "source": [
    "## Indice:\n",
    "+ Introducción\n",
    "+ Definición de un entorno virtual\n",
    "+ Instalación de software\n",
    "+ Trabajo en terminal\n",
    "+ Utilización de Jupyter Notebook\n",
    "+ Señales: Continuas y discreta\n",
    "+ Transformada de Fourier\n",
    "## Introducción\n",
    "#### Dentro del curso ACUS0991, se han aprendido diversos temas relacionados con la creación y manejo de entornos virtuales, instalación de software esencial para el desarrollo de proyectos, así como la utilización de herramientas como Jupyter Notebook y Markdown. A continuación, se detallará lo aprendido a lo largo de la asignatura.\n",
    "## Definición de entorno virtual\n",
    "#### Un entorno virtual es un ambiente aislado y específico para un proyecto determinado, cuyo fin es que dichos proyectos no interfieran con el sistema operativo principal. Al utilizar un entorno virtual, se puede garantizar la reproducibilidad y portabilidad del proyecto.\n",
    "## Instalación de software\n",
    "#### La clase del dia 13 de marzo se realizó, en el edificio 14k de la Universidad Austral de Chile (el siguiente link nos entrega información sobre este edificio: [Articulo sobre edificio 14K](https://diario.uach.cl/14k-el-nuevo-centro-de-innovacion-emprendimiento-y-tecnologia-de-la-universidad-austral-de-chile/) ), las instalaciones de los software que utilizaremos en clases, los cuales son: *Git, Visual Studio Code, Pythom, Conda y Jupyter Notebook.*\n",
    "#### Las instalaciones se realizaron exitosamente gracias a Diego Espejo y Esteban Vargas. \n",
    "## Trabajo en terminal\n",
    "#### En primer lugar, se entró a la terminal en donde se verificó si las instaciones de Conda y Git fueron exitosas, con los códigos \"**conda --version**\" y \"**git --version**\" respectivamente. Luego, creamos un entorno virtual llamado \"acus099\" con el codigo \"**conda create -n acus099**\" y se activó con el codigo \"**conda activate**\". Posteriormente, se instalaron versiones adecuadas de Pythom y Jupyter Notebook. Para finalizar, se creó una carpeta para guardar los avances, proyectos y trabajos del curso realizados en Jupyter Notebook, los cuales se pueden abrir desde la terminal con el codigo \"**cd *enlace de carpeta*>jupyter notebook**\"\n",
    "## Utilización de Jupyter Notebook\n",
    "#### Se entró al cuadernillo y analizamos algunas capacidades de Jupyter (*File, Edit, View, Run, Kernel, Settings, Help*). En el tipo de celda se seleccionó \"Markdown\", en donde se vieron la creación de titulos y subtitulos(*#*), puntos de índice (*+*), ecuaciones (*$$*), letra cursiva (*), letra en negrita (**) y hipervinculo ([Nombre de hipervinculo](link de hipervinculo)).\n",
    "## Señales: Continuas y Discretas\n",
    "### Continuas\n",
    "#### Señal que está definida para todos los valores de tiempo dentro de un intervalo dado. La señal se define para cada punto en el tiempo y puede tomar cualquier valor dentro de un rango continuo, su amplitud varia de forma continua en el tiempo. Se puede representar por una función matemática que está definida para todos los valores de tiempo en un intervalo continuo.\n",
    "### Discretas\n",
    "#### El tiempo y la amplitud se discretiza (conversion de continuo a discreta), se toman muestras de la señal continua en intervalos regulares de tiempo y asignar un valor discreto a cada muestra, es un tipo de señal que está definida únicamente en puntos específicos en el tiempo o en la amplitud. Se escribe como x[n] y surge de un muestreo que se hace en el tiempo.\n",
    "## Transformada de Fourier \n",
    "### Transformada de Fourier continua\n",
    "#### Se aplica a señales continuas en el tiempo, su funcion es transformar un f(t) a una funcion dependiente de una frecuencia angular, se denota como F(w). En la transformada se encuentra una exponencial compleja que representa las oscilaciones armonicas en el tiempo.\n",
    "#### Su formula consiste de una integral que va desde el infinto negativo al positivo, multiplicado por la función original en el dominio del tiempo y la función exponencial compleja que oscila a una frecuencia angular.\n",
    "### Transformada de Fourier inversa continua\n",
    "#### Esta explica que teniendo la Tranformada de Fourier directa, podemos obtener la funcion original en el dominio del tiempo, pasar de F(w) a f(t).\n",
    "#### Matematicamente hablando se calcula multiplicando 1/2π por una integral que va desde el infinito negativo al positivo, multiplicando la transformada de fourier directa (funcion en dominio de la frecuencia) y la exponencial en frecuencia angular.\n",
    "### Transformada de Fourier discreta\n",
    "#### Transforma una secuencia discreta x[n] en una secuencia de frecuencia X[k], k es el indice de frecuencia discreta.\n",
    "#### Se calcula obteniendo la sumatoria que se realiza sobre todos los valores de n desde 0 hasta N-1 (N es la longitud de la secuencia discreta), multiplicado por la secuencia original en el dominio del tiempo discreto x[n] y la función exponencial compleja que oscila a una frecuencia discreta. "
   ]
  }
 ],
 "metadata": {
  "language_info": {
   "name": "python"
  }
 },
 "nbformat": 4,
 "nbformat_minor": 2
}
