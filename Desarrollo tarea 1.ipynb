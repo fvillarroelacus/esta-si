{
 "cells": [
  {
   "cell_type": "markdown",
   "metadata": {},
   "source": [
    "## Indice:\n",
    "+ [Introducción](#id1)\n",
    "+ [Definición de un entorno virtual](#id2)\n",
    "+ [Instalación de software](#id3)\n",
    "+ [Trabajo en terminal](#id4)\n",
    "+ [Utilización de Jupyter Notebook](#id5)\n",
    "+ [Señales](#id6)\n",
    "     - [Continuas](#id61)\n",
    "     - [Discretas](#id62)\n",
    "+ [Transformada de Fourier](#id7)\n",
    "     - [Transformada de Fourier continua](#id71)\n",
    "     - [Transformada de Fourier inversa continua](#id72)\n",
    "     - [Transformada de Fourier discreta](#id73)\n",
    "+ [Códigos básicos de Python](#id8)\n",
    "***\n",
    "\n",
    "## Introducción<a name='id1'></a>.\n",
    "#### Dentro del curso ACUS0991, se han aprendido diversos temas relacionados con la creación y manejo de entornos virtuales, instalación de software esencial para el desarrollo de proyectos, así como la utilización de herramientas como Jupyter Notebook y Markdown. A continuación, se detallará lo aprendido a lo largo de la asignatura.\n",
    "***\n",
    "\n",
    "## Definición de entorno virtual<a name='id2'></a>\n",
    "#### Un entorno virtual es un ambiente aislado y específico para un proyecto determinado, cuyo fin es que dichos proyectos no interfieran con el sistema operativo principal. Al utilizar un entorno virtual, se puede garantizar la reproducibilidad y portabilidad del proyecto.\n",
    "***\n",
    "\n",
    "## Instalación de software<a name='id3'></a>\n",
    "#### La clase del dia 13 de marzo se realizó, en el edificio 14k de la Universidad Austral de Chile (el siguiente link nos entrega información sobre este edificio: [Articulo sobre edificio 14K](https://diario.uach.cl/14k-el-nuevo-centro-de-innovacion-emprendimiento-y-tecnologia-de-la-universidad-austral-de-chile/) ), las instalaciones de los software que utilizaremos en clases, los cuales son: *Git, Visual Studio Code, Pythom, Conda y Jupyter Notebook.*\n",
    "#### Las instalaciones se realizaron exitosamente gracias a Diego Espejo y Esteban Vargas. \n",
    "#### El proceso de instalación fue muy parecido al mostrado en el siguiente video, el cual presenta una clase de ACUS220 del año 2021:\n"
   ]
  },
  {
   "cell_type": "code",
   "execution_count": 3,
   "metadata": {},
   "outputs": [
    {
     "data": {
      "image/jpeg": "[encoded data removed]",
      "text/html": [
       "\n",
       "        <iframe\n",
       "            width=\"400\"\n",
       "            height=\"300\"\n",
       "            src=\"https://www.youtube.com/embed/P_CzRzUgjyo\"\n",
       "            frameborder=\"0\"\n",
       "            allowfullscreen\n",
       "            \n",
       "        ></iframe>\n",
       "        "
      ],
      "text/plain": [
       "<IPython.lib.display.YouTubeVideo at 0x174b4ebba60>"
      ]
     },
     "execution_count": 3,
     "metadata": {},
     "output_type": "execute_result"
    }
   ],
   "source": [
    "from IPython.display import YouTubeVideo\n",
    "YouTubeVideo('P_CzRzUgjyo')"
   ]
  },
  {
   "cell_type": "markdown",
   "metadata": {},
   "source": [
    "***\n",
    "\n",
    "## Trabajo en terminal<a name='id4'></a>\n",
    "#### En primer lugar, se entró a la terminal en donde se verificó si las instaciones de Conda y Git fueron exitosas, con los códigos \"**conda --version**\" y \"**git --version**\" respectivamente. Luego, creamos un entorno virtual llamado \"acus099\" con el codigo \"**conda create -n acus099**\" y se activó con el codigo \"**conda activate**\". Posteriormente, se instalaron versiones adecuadas de Pythom y Jupyter Notebook. Para finalizar, se creó una carpeta para guardar los avances, proyectos y trabajos del curso realizados en Jupyter Notebook, los cuales se pueden abrir desde la terminal con el codigo \"**cd *enlace de carpeta*>jupyter notebook**\"\n",
    "***\n",
    "\n",
    "## Utilización de Jupyter Notebook<a name='id5'></a>\n",
    "#### Se entró al cuadernillo y analizamos algunas capacidades de Jupyter (*File, Edit, View, Run, Kernel, Settings, Help*). En el tipo de celda se seleccionó \"Markdown\", en donde se vieron la creación de titulos y subtitulos(*#*), puntos de índice (*+*), ecuaciones (*$$*), letra cursiva (*), letra en negrita (**) y hipervinculo ([Nombre de hipervinculo](link de hipervinculo)).\n",
    "***\n",
    "\n",
    "## Señales: Continuas y Discretas<a name='id6'></a>\n",
    "\n",
    "### Continuas<a name='id61'></a>\n",
    "#### Señal que está definida para todos los valores de tiempo dentro de un intervalo dado. La señal se define para cada punto en el tiempo y puede tomar cualquier valor dentro de un rango continuo, su amplitud varia de forma continua en el tiempo. Se puede representar por una función matemática que está definida para todos los valores de tiempo en un intervalo continuo.\n",
    "\n",
    "### Discretas<a name='id62'></a>\n",
    "#### El tiempo y la amplitud se discretiza (conversion de continuo a discreta), se toman muestras de la señal continua en intervalos regulares de tiempo y asignar un valor discreto a cada muestra, es un tipo de señal que está definida únicamente en puntos específicos en el tiempo o en la amplitud. Se escribe como x[n] y surge de un muestreo que se hace en el tiempo.\n",
    "***\n",
    "\n",
    "## Transformada de Fourier<a name='id7'></a>\n",
    "\n",
    "### Transformada de Fourier continua<a name='id71'></a>\n",
    "#### Se aplica a señales continuas en el tiempo, su funcion es transformar un f(t) a una funcion dependiente de una frecuencia angular, se denota como F(w). En la transformada se encuentra una exponencial compleja que representa las oscilaciones armonicas en el tiempo.\n",
    "#### Su formula consiste de una integral que va desde el infinto negativo al positivo, multiplicado por la función original en el dominio del tiempo y la función exponencial compleja que oscila a una frecuencia angular.\n",
    "\n",
    "### Transformada de Fourier inversa continua<a name='id72'></a>\n",
    "#### Esta explica que teniendo la Tranformada de Fourier directa, podemos obtener la funcion original en el dominio del tiempo, pasar de F(w) a f(t).\n",
    "#### Matematicamente hablando se calcula multiplicando 1/2π por una integral que va desde el infinito negativo al positivo, multiplicando la transformada de fourier directa (funcion en dominio de la frecuencia) y la exponencial en frecuencia angular.\n",
    "\n",
    "#### Las formulas ya mencionadas se pueden apreciar en esta imagen:\n",
    "![Formula](fourier.jpg)\n",
    "\n",
    "### Transformada de Fourier discreta<a name='id73'></a>\n",
    "#### Transforma una secuencia discreta x[n] en una secuencia de frecuencia X[k], k es el indice de frecuencia discreta.\n",
    "#### Se calcula obteniendo la sumatoria que se realiza sobre todos los valores de n desde 0 hasta N-1 (N es la longitud de la secuencia discreta), multiplicado por la secuencia original en el dominio del tiempo discreto x[n] y la función exponencial compleja que oscila a una frecuencia discreta.\n",
    "$$\n",
    "\\begin{align*}\n",
    "X[k] = \\sum_{n=0}^{N-1} x[n] e^{-i 2\\pi kn/N}\n",
    "\\end{align*}\n",
    "$$\n",
    "\n",
    "***\n",
    "## Códigos básicos de Python<a name='id8'></a>\n",
    "#### El ayudante de la asignatura, Esteban Vargas, realizó una clase enseñando como se define una variable (*Ej: x = 8*), como crear una lista (*Ej: L=[1,2,3]) y algunos códigos básicos de Python (*type(), print(), sum(), etc.*). Todos los códigos vistos en clases se encuentran en el archivo \"Códigos básicos de python.ipynb\", donde se explica detalladamente para que sirve cada código. \n"
   ]
  },
  {
   "cell_type": "markdown",
   "metadata": {},
   "source": []
  }
 ],
 "metadata": {
  "kernelspec": {
   "display_name": "acus099",
   "language": "python",
   "name": "python3"
  },
  "language_info": {
   "codemirror_mode": {
    "name": "ipython",
    "version": 3
   },
   "file_extension": ".py",
   "mimetype": "text/x-python",
   "name": "python",
   "nbconvert_exporter": "python",
   "pygments_lexer": "ipython3",
   "version": "3.9.18"
  }
 },
 "nbformat": 4,
 "nbformat_minor": 4
}
