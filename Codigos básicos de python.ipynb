{
 "cells": [
  {
   "cell_type": "code",
   "execution_count": 50,
   "id": "47762531-d410-45d4-a642-d37ff0a5eca7",
   "metadata": {},
   "outputs": [],
   "source": [
    "x=8. \n",
    "y=\"text\" #string"
   ]
  },
  {
   "cell_type": "code",
   "execution_count": 51,
   "id": "764a2d33-097e-4bb1-bfdd-fff8a9653c45",
   "metadata": {},
   "outputs": [
    {
     "data": {
      "text/plain": [
       "str"
      ]
     },
     "execution_count": 51,
     "metadata": {},
     "output_type": "execute_result"
    }
   ],
   "source": [
    "type(y)"
   ]
  },
  {
   "cell_type": "code",
   "execution_count": 78,
   "id": "0bac2a60-5242-4a2d-a5c8-89ba300fcc19",
   "metadata": {},
   "outputs": [
    {
     "name": "stdout",
     "output_type": "stream",
     "text": [
      "[1, 2, 3, 4, 5, 6, 7, 8, 9]\n"
     ]
    }
   ],
   "source": [
    "L=[1,2,3,4,5,6,7,8,9,]\n",
    "print(L)"
   ]
  },
  {
   "cell_type": "code",
   "execution_count": 69,
   "id": "8655d732-82d5-4249-8e2d-624875a0d438",
   "metadata": {},
   "outputs": [
    {
     "data": {
      "text/plain": [
       "list"
      ]
     },
     "execution_count": 69,
     "metadata": {},
     "output_type": "execute_result"
    }
   ],
   "source": [
    "type(L)"
   ]
  },
  {
   "cell_type": "code",
   "execution_count": 70,
   "id": "d174bcdf-1a19-4b51-8ccd-4adff4d1f7b9",
   "metadata": {},
   "outputs": [
    {
     "data": {
      "text/plain": [
       "1"
      ]
     },
     "execution_count": 70,
     "metadata": {},
     "output_type": "execute_result"
    }
   ],
   "source": [
    "#como acceder a un nummero de la lista (primer numero)\n",
    "L[0]"
   ]
  },
  {
   "cell_type": "code",
   "execution_count": 71,
   "id": "b3f4cf48-868c-49e1-9cf1-854b81f17d7e",
   "metadata": {},
   "outputs": [
    {
     "data": {
      "text/plain": [
       "6"
      ]
     },
     "execution_count": 71,
     "metadata": {},
     "output_type": "execute_result"
    }
   ],
   "source": [
    "#sumar todos los elementos de la lista\n",
    "sum(L)"
   ]
  },
  {
   "cell_type": "code",
   "execution_count": 72,
   "id": "a22ebccd-24e2-4c7c-bc43-e0d58ea7df05",
   "metadata": {},
   "outputs": [
    {
     "name": "stdout",
     "output_type": "stream",
     "text": [
      "[1, 2, 3, 4]\n"
     ]
    }
   ],
   "source": [
    "L.append(4) #Agregar número a la lista\n",
    "print(L)\n"
   ]
  },
  {
   "cell_type": "code",
   "execution_count": 73,
   "id": "c6dfe203-ab4a-4992-a3ea-ff5f1bc12dfe",
   "metadata": {},
   "outputs": [
    {
     "name": "stdout",
     "output_type": "stream",
     "text": [
      "[1, 2, 3]\n"
     ]
    }
   ],
   "source": [
    "L.remove(4) #Quitar número de la lista\n",
    "print(L)"
   ]
  },
  {
   "cell_type": "code",
   "execution_count": 74,
   "id": "b64d29ab-0eac-41ef-bf91-3f9da09a2e78",
   "metadata": {},
   "outputs": [
    {
     "data": {
      "text/plain": [
       "{'telefono': 1234, 'telefono2': 8769}"
      ]
     },
     "execution_count": 74,
     "metadata": {},
     "output_type": "execute_result"
    }
   ],
   "source": [
    "dict([(\"telefono\",1234),(\"telefono2\",8769)]) #Crear diccionario."
   ]
  },
  {
   "cell_type": "code",
   "execution_count": 75,
   "id": "4bbc2a6a-b256-4dae-8304-df1cbc4ac11d",
   "metadata": {},
   "outputs": [
    {
     "data": {
      "text/plain": [
       "3"
      ]
     },
     "execution_count": 75,
     "metadata": {},
     "output_type": "execute_result"
    }
   ],
   "source": [
    "len(L) #ver largo"
   ]
  },
  {
   "cell_type": "code",
   "execution_count": 79,
   "id": "e5cf9626-eb78-4db3-a998-8651e77908a4",
   "metadata": {},
   "outputs": [
    {
     "name": "stdout",
     "output_type": "stream",
     "text": [
      "1\n",
      "2\n",
      "3\n",
      "4\n",
      "5\n",
      "6\n",
      "7\n",
      "8\n",
      "9\n"
     ]
    }
   ],
   "source": [
    "for i in range(len(L)):   #iteraciones\n",
    "    print(L[i])\n",
    "    "
   ]
  },
  {
   "cell_type": "code",
   "execution_count": 61,
   "id": "1dc13c56-8f11-431e-8b5c-610bcb0562dc",
   "metadata": {},
   "outputs": [
    {
     "name": "stdout",
     "output_type": "stream",
     "text": [
      "adios mundo cruel\n"
     ]
    }
   ],
   "source": [
    "if len(L)>89:               #si cumple la condicion\n",
    "    print(\"hola mundoooo\")\n",
    "else:                       #si no cumple\n",
    "    print(\"adios mundo cruel\")"
   ]
  },
  {
   "cell_type": "code",
   "execution_count": 80,
   "id": "c12c34be-b955-4a58-a443-94e438cfe643",
   "metadata": {},
   "outputs": [
    {
     "name": "stdout",
     "output_type": "stream",
     "text": [
      "1\n",
      "3\n",
      "5\n",
      "7\n",
      "9\n"
     ]
    }
   ],
   "source": [
    "for i in range(len(L)): #Para ver solo números impares de mi lista \"L\"\n",
    "    if L[i]%2==1:\n",
    "        print(L[i])\n",
    "        \n"
   ]
  },
  {
   "cell_type": "code",
   "execution_count": null,
   "id": "474f6acd-c8ca-4109-8794-df5c2d617a6f",
   "metadata": {},
   "outputs": [],
   "source": []
  },
  {
   "cell_type": "code",
   "execution_count": null,
   "id": "1151b805-07e3-4ccf-b966-3a41f18cbf67",
   "metadata": {},
   "outputs": [],
   "source": []
  },
  {
   "cell_type": "code",
   "execution_count": null,
   "id": "d45b65b7-5b35-4944-8ef0-73a4551761ef",
   "metadata": {},
   "outputs": [],
   "source": []
  },
  {
   "cell_type": "code",
   "execution_count": null,
   "id": "d66c01dd-70d0-4944-99a5-fd0092f02a27",
   "metadata": {},
   "outputs": [],
   "source": []
  }
 ],
 "metadata": {
  "kernelspec": {
   "display_name": "acus0991",
   "language": "python",
   "name": "acus0991"
  },
  "language_info": {
   "codemirror_mode": {
    "name": "ipython",
    "version": 3
   },
   "file_extension": ".py",
   "mimetype": "text/x-python",
   "name": "python",
   "nbconvert_exporter": "python",
   "pygments_lexer": "ipython3",
   "version": "3.9.4"
  }
 },
 "nbformat": 4,
 "nbformat_minor": 5
}
